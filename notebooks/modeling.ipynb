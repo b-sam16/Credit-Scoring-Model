{
 "cells": [
  {
   "cell_type": "code",
   "execution_count": 35,
   "metadata": {},
   "outputs": [
    {
     "name": "stdout",
     "output_type": "stream",
     "text": [
      "The autoreload extension is already loaded. To reload it, use:\n",
      "  %reload_ext autoreload\n"
     ]
    }
   ],
   "source": [
    "%load_ext autoreload\n",
    "%autoreload 2"
   ]
  },
  {
   "cell_type": "code",
   "execution_count": 36,
   "metadata": {},
   "outputs": [],
   "source": [
    "import sys\n",
    "import pandas as pd\n",
    "\n",
    "# Add the src directory to the Python path\n",
    "sys.path.append('../src')\n",
    "from modeling import CreditScoringModel"
   ]
  },
  {
   "cell_type": "code",
   "execution_count": 54,
   "metadata": {},
   "outputs": [
    {
     "data": {
      "text/html": [
       "<div>\n",
       "<style scoped>\n",
       "    .dataframe tbody tr th:only-of-type {\n",
       "        vertical-align: middle;\n",
       "    }\n",
       "\n",
       "    .dataframe tbody tr th {\n",
       "        vertical-align: top;\n",
       "    }\n",
       "\n",
       "    .dataframe thead th {\n",
       "        text-align: right;\n",
       "    }\n",
       "</style>\n",
       "<table border=\"1\" class=\"dataframe\">\n",
       "  <thead>\n",
       "    <tr style=\"text-align: right;\">\n",
       "      <th></th>\n",
       "      <th>TransactionId</th>\n",
       "      <th>BatchId</th>\n",
       "      <th>AccountId</th>\n",
       "      <th>SubscriptionId</th>\n",
       "      <th>CustomerId</th>\n",
       "      <th>CurrencyCode</th>\n",
       "      <th>CountryCode</th>\n",
       "      <th>ProviderId</th>\n",
       "      <th>ProductId</th>\n",
       "      <th>ChannelId</th>\n",
       "      <th>...</th>\n",
       "      <th>Frequency</th>\n",
       "      <th>Monetary</th>\n",
       "      <th>Recency_Score</th>\n",
       "      <th>Frequency_Score</th>\n",
       "      <th>Monetary_Score</th>\n",
       "      <th>RFMS_Score</th>\n",
       "      <th>Default_Label</th>\n",
       "      <th>Recency_woe</th>\n",
       "      <th>Frequency_woe</th>\n",
       "      <th>Monetary_woe</th>\n",
       "    </tr>\n",
       "  </thead>\n",
       "  <tbody>\n",
       "    <tr>\n",
       "      <th>0</th>\n",
       "      <td>TransactionId_76871</td>\n",
       "      <td>BatchId_36123</td>\n",
       "      <td>AccountId_3957</td>\n",
       "      <td>SubscriptionId_887</td>\n",
       "      <td>CustomerId_4406</td>\n",
       "      <td>UGX</td>\n",
       "      <td>256</td>\n",
       "      <td>5</td>\n",
       "      <td>1</td>\n",
       "      <td>2</td>\n",
       "      <td>...</td>\n",
       "      <td>119</td>\n",
       "      <td>109921.75</td>\n",
       "      <td>1</td>\n",
       "      <td>3</td>\n",
       "      <td>2</td>\n",
       "      <td>2.10</td>\n",
       "      <td>0</td>\n",
       "      <td>0.131882</td>\n",
       "      <td>1.320930</td>\n",
       "      <td>-2.136510</td>\n",
       "    </tr>\n",
       "    <tr>\n",
       "      <th>1</th>\n",
       "      <td>TransactionId_73770</td>\n",
       "      <td>BatchId_15642</td>\n",
       "      <td>AccountId_4841</td>\n",
       "      <td>SubscriptionId_3829</td>\n",
       "      <td>CustomerId_4406</td>\n",
       "      <td>UGX</td>\n",
       "      <td>256</td>\n",
       "      <td>3</td>\n",
       "      <td>19</td>\n",
       "      <td>1</td>\n",
       "      <td>...</td>\n",
       "      <td>119</td>\n",
       "      <td>109921.75</td>\n",
       "      <td>1</td>\n",
       "      <td>3</td>\n",
       "      <td>2</td>\n",
       "      <td>2.10</td>\n",
       "      <td>0</td>\n",
       "      <td>0.131882</td>\n",
       "      <td>1.320930</td>\n",
       "      <td>-2.136510</td>\n",
       "    </tr>\n",
       "    <tr>\n",
       "      <th>2</th>\n",
       "      <td>TransactionId_26203</td>\n",
       "      <td>BatchId_53941</td>\n",
       "      <td>AccountId_4229</td>\n",
       "      <td>SubscriptionId_222</td>\n",
       "      <td>CustomerId_4683</td>\n",
       "      <td>UGX</td>\n",
       "      <td>256</td>\n",
       "      <td>5</td>\n",
       "      <td>0</td>\n",
       "      <td>2</td>\n",
       "      <td>...</td>\n",
       "      <td>2</td>\n",
       "      <td>1000.00</td>\n",
       "      <td>3</td>\n",
       "      <td>1</td>\n",
       "      <td>1</td>\n",
       "      <td>1.50</td>\n",
       "      <td>0</td>\n",
       "      <td>0.603063</td>\n",
       "      <td>-2.884004</td>\n",
       "      <td>-2.136510</td>\n",
       "    </tr>\n",
       "    <tr>\n",
       "      <th>3</th>\n",
       "      <td>TransactionId_380</td>\n",
       "      <td>BatchId_102363</td>\n",
       "      <td>AccountId_648</td>\n",
       "      <td>SubscriptionId_2185</td>\n",
       "      <td>CustomerId_988</td>\n",
       "      <td>UGX</td>\n",
       "      <td>256</td>\n",
       "      <td>0</td>\n",
       "      <td>11</td>\n",
       "      <td>2</td>\n",
       "      <td>...</td>\n",
       "      <td>38</td>\n",
       "      <td>228727.20</td>\n",
       "      <td>1</td>\n",
       "      <td>2</td>\n",
       "      <td>3</td>\n",
       "      <td>2.15</td>\n",
       "      <td>0</td>\n",
       "      <td>0.131882</td>\n",
       "      <td>-2.884004</td>\n",
       "      <td>1.174116</td>\n",
       "    </tr>\n",
       "    <tr>\n",
       "      <th>4</th>\n",
       "      <td>TransactionId_28195</td>\n",
       "      <td>BatchId_38780</td>\n",
       "      <td>AccountId_4841</td>\n",
       "      <td>SubscriptionId_3829</td>\n",
       "      <td>CustomerId_988</td>\n",
       "      <td>UGX</td>\n",
       "      <td>256</td>\n",
       "      <td>3</td>\n",
       "      <td>19</td>\n",
       "      <td>1</td>\n",
       "      <td>...</td>\n",
       "      <td>38</td>\n",
       "      <td>228727.20</td>\n",
       "      <td>1</td>\n",
       "      <td>2</td>\n",
       "      <td>3</td>\n",
       "      <td>2.15</td>\n",
       "      <td>0</td>\n",
       "      <td>0.131882</td>\n",
       "      <td>-2.884004</td>\n",
       "      <td>1.174116</td>\n",
       "    </tr>\n",
       "  </tbody>\n",
       "</table>\n",
       "<p>5 rows × 46 columns</p>\n",
       "</div>"
      ],
      "text/plain": [
       "         TransactionId         BatchId       AccountId       SubscriptionId  \\\n",
       "0  TransactionId_76871   BatchId_36123  AccountId_3957   SubscriptionId_887   \n",
       "1  TransactionId_73770   BatchId_15642  AccountId_4841  SubscriptionId_3829   \n",
       "2  TransactionId_26203   BatchId_53941  AccountId_4229   SubscriptionId_222   \n",
       "3    TransactionId_380  BatchId_102363   AccountId_648  SubscriptionId_2185   \n",
       "4  TransactionId_28195   BatchId_38780  AccountId_4841  SubscriptionId_3829   \n",
       "\n",
       "        CustomerId CurrencyCode  CountryCode  ProviderId  ProductId  \\\n",
       "0  CustomerId_4406          UGX          256           5          1   \n",
       "1  CustomerId_4406          UGX          256           3         19   \n",
       "2  CustomerId_4683          UGX          256           5          0   \n",
       "3   CustomerId_988          UGX          256           0         11   \n",
       "4   CustomerId_988          UGX          256           3         19   \n",
       "\n",
       "   ChannelId  ...  Frequency   Monetary Recency_Score  Frequency_Score  \\\n",
       "0          2  ...        119  109921.75             1                3   \n",
       "1          1  ...        119  109921.75             1                3   \n",
       "2          2  ...          2    1000.00             3                1   \n",
       "3          2  ...         38  228727.20             1                2   \n",
       "4          1  ...         38  228727.20             1                2   \n",
       "\n",
       "   Monetary_Score  RFMS_Score  Default_Label  Recency_woe  Frequency_woe  \\\n",
       "0               2        2.10              0     0.131882       1.320930   \n",
       "1               2        2.10              0     0.131882       1.320930   \n",
       "2               1        1.50              0     0.603063      -2.884004   \n",
       "3               3        2.15              0     0.131882      -2.884004   \n",
       "4               3        2.15              0     0.131882      -2.884004   \n",
       "\n",
       "   Monetary_woe  \n",
       "0     -2.136510  \n",
       "1     -2.136510  \n",
       "2     -2.136510  \n",
       "3      1.174116  \n",
       "4      1.174116  \n",
       "\n",
       "[5 rows x 46 columns]"
      ]
     },
     "execution_count": 54,
     "metadata": {},
     "output_type": "execute_result"
    }
   ],
   "source": [
    "# Load the processed dataset\n",
    "data = pd.read_csv('../data/processed/woe_processed_data.csv')\n",
    "data.head()"
   ]
  },
  {
   "cell_type": "code",
   "execution_count": 55,
   "metadata": {},
   "outputs": [
    {
     "name": "stdout",
     "output_type": "stream",
     "text": [
      "std_transaction_amount    712\n",
      "dtype: int64\n"
     ]
    }
   ],
   "source": [
    "missing_values = data.isnull().sum()\n",
    "missing_values = missing_values[missing_values > 0]\n",
    "print(missing_values)"
   ]
  },
  {
   "cell_type": "code",
   "execution_count": 56,
   "metadata": {},
   "outputs": [],
   "source": [
    "from sklearn.impute import SimpleImputer\n",
    "\n",
    "# Select only the numeric columns\n",
    "numeric_columns = data.select_dtypes(include=['float64', 'int64']).columns\n",
    "\n",
    "imputer = SimpleImputer(strategy='mean')\n",
    "data[numeric_columns] = imputer.fit_transform(data[numeric_columns])"
   ]
  },
  {
   "cell_type": "code",
   "execution_count": 58,
   "metadata": {},
   "outputs": [],
   "source": [
    "# Define the feature columns and target column\n",
    "feature_columns = [\n",
    "    'total_transaction_amount', 'average_transaction_amount', 'transaction_count', 'std_transaction_amount',\n",
    "    'Transaction_Year', 'Transaction_Month', 'Transaction_Day', 'Transaction_Hour',\n",
    "    'ProductCategory_data_bundles', 'ProductCategory_financial_services', 'ProductCategory_movies',\n",
    "    'ProductCategory_other', 'ProductCategory_ticket', 'ProductCategory_transport', 'ProductCategory_tv',\n",
    "    'ProductCategory_utility_bill', 'Amount_standardized', 'Value_standardized', 'Recency', 'Frequency', 'Monetary','Recency_woe'\n",
    "]\n",
    "\n",
    "target_column = 'Default_Label'\n"
   ]
  },
  {
   "cell_type": "code",
   "execution_count": 49,
   "metadata": {},
   "outputs": [
    {
     "name": "stdout",
     "output_type": "stream",
     "text": [
      "total_transaction_amount              0.044791\n",
      "average_transaction_amount            0.054803\n",
      "transaction_count                     0.186659\n",
      "std_transaction_amount                0.125243\n",
      "Transaction_Year                      0.072945\n",
      "Transaction_Month                    -0.067674\n",
      "Transaction_Day                       0.020129\n",
      "Transaction_Hour                     -0.030401\n",
      "ProductCategory_data_bundles          0.001778\n",
      "ProductCategory_financial_services   -0.008967\n",
      "ProductCategory_movies               -0.025152\n",
      "ProductCategory_other                -0.004726\n",
      "ProductCategory_ticket                0.006366\n",
      "ProductCategory_transport            -0.007650\n",
      "ProductCategory_tv                    0.036325\n",
      "ProductCategory_utility_bill         -0.000688\n",
      "Amount_standardized                   0.037791\n",
      "Value_standardized                    0.033360\n",
      "Recency                               0.011383\n",
      "Frequency                             0.186659\n",
      "Monetary                              0.044791\n",
      "Recency_Score                        -0.030670\n",
      "Frequency_Score                       0.715281\n",
      "Monetary_Score                        0.743275\n",
      "RFMS_Score                            0.840761\n",
      "Recency_woe                           0.233920\n",
      "Frequency_woe                         0.736288\n",
      "Monetary_woe                          0.730470\n",
      "Default_Label                         1.000000\n",
      "Name: Default_Label, dtype: float64\n"
     ]
    }
   ],
   "source": [
    "# Correlation analysis\n",
    "corr_matrix = data[feature_columns + [target_column]].corr()\n",
    "print(corr_matrix[target_column])"
   ]
  },
  {
   "cell_type": "code",
   "execution_count": 59,
   "metadata": {},
   "outputs": [],
   "source": [
    "# Instantiate the model\n",
    "model = CreditScoringModel(data, feature_columns, target_column)"
   ]
  },
  {
   "cell_type": "code",
   "execution_count": 60,
   "metadata": {},
   "outputs": [
    {
     "name": "stdout",
     "output_type": "stream",
     "text": [
      "Random Forest Cross-Validation Accuracy: 1.0000\n",
      "Gradient Boosting Cross-Validation Accuracy: 1.0000\n"
     ]
    }
   ],
   "source": [
    "\n",
    "# Train the models\n",
    "model.train()"
   ]
  },
  {
   "cell_type": "code",
   "execution_count": 62,
   "metadata": {},
   "outputs": [
    {
     "name": "stdout",
     "output_type": "stream",
     "text": [
      "Model saved as random_forest_model.joblib\n",
      "Model saved as gradient_boosting_model.joblib\n"
     ]
    }
   ],
   "source": [
    "# Save the trained Random Forest model\n",
    "model.save_model(model.rf_model, 'random_forest')\n",
    "\n",
    "# Save the trained Gradient Boosting model\n",
    "model.save_model(model.gbm_model, 'gradient_boosting')\n"
   ]
  },
  {
   "cell_type": "code",
   "execution_count": 61,
   "metadata": {},
   "outputs": [
    {
     "name": "stdout",
     "output_type": "stream",
     "text": [
      "\n",
      "Evaluating Random Forest...\n",
      "Confusion Matrix for Random Forest:\n",
      " [[9251    0]\n",
      " [   2 9880]]\n",
      "Classification Report for Random Forest:\n",
      "\n",
      "              precision    recall  f1-score   support\n",
      "\n",
      "         0.0       1.00      1.00      1.00      9251\n",
      "         1.0       1.00      1.00      1.00      9882\n",
      "\n",
      "    accuracy                           1.00     19133\n",
      "   macro avg       1.00      1.00      1.00     19133\n",
      "weighted avg       1.00      1.00      1.00     19133\n",
      "\n"
     ]
    },
    {
     "data": {
      "image/png": "[encoded data removed]",
      "text/plain": [
       "<Figure size 800x600 with 1 Axes>"
      ]
     },
     "metadata": {},
     "output_type": "display_data"
    },
    {
     "name": "stdout",
     "output_type": "stream",
     "text": [
      "\n",
      "Evaluating Gradient Boosting...\n",
      "Confusion Matrix for Gradient Boosting:\n",
      " [[9251    0]\n",
      " [   0 9882]]\n",
      "Classification Report for Gradient Boosting:\n",
      "\n",
      "              precision    recall  f1-score   support\n",
      "\n",
      "         0.0       1.00      1.00      1.00      9251\n",
      "         1.0       1.00      1.00      1.00      9882\n",
      "\n",
      "    accuracy                           1.00     19133\n",
      "   macro avg       1.00      1.00      1.00     19133\n",
      "weighted avg       1.00      1.00      1.00     19133\n",
      "\n"
     ]
    },
    {
     "data": {
      "image/png": "[encoded data removed]",
      "text/plain": [
       "<Figure size 800x600 with 1 Axes>"
      ]
     },
     "metadata": {},
     "output_type": "display_data"
    },
    {
     "name": "stdout",
     "output_type": "stream",
     "text": [
      "\n",
      "Random Forest Evaluation Metrics:\n",
      "{'accuracy': 0.99989546856217, 'precision': 1.0, 'recall': 0.9997976118194697, 'f1': 0.9998987956684546, 'roc_auc': np.float64(1.0)}\n",
      "\n",
      "Gradient Boosting Evaluation Metrics:\n",
      "{'accuracy': 1.0, 'precision': 1.0, 'recall': 1.0, 'f1': 1.0, 'roc_auc': np.float64(1.0)}\n"
     ]
    }
   ],
   "source": [
    "# Evaluate the models\n",
    "model.compare_models()"
   ]
  }
 ],
 "metadata": {
  "kernelspec": {
   "display_name": "env",
   "language": "python",
   "name": "python3"
  },
  "language_info": {
   "codemirror_mode": {
    "name": "ipython",
    "version": 3
   },
   "file_extension": ".py",
   "mimetype": "text/x-python",
   "name": "python",
   "nbconvert_exporter": "python",
   "pygments_lexer": "ipython3",
   "version": "3.10.5"
  }
 },
 "nbformat": 4,
 "nbformat_minor": 2
}
